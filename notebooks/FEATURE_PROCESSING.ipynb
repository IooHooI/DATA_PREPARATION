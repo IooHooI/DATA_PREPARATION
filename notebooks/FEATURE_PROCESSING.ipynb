{
 "cells": [
  {
   "cell_type": "markdown",
   "metadata": {
    "toc": true
   },
   "source": [
    "<h1>Table of Contents<span class=\"tocSkip\"></span></h1>\n",
    "<div class=\"toc\"><ul class=\"toc-item\"><li><span><a href=\"#All-improts-necessary\" data-toc-modified-id=\"All-improts-necessary-1\"><span class=\"toc-item-num\">1&nbsp;&nbsp;</span>All improts necessary</a></span></li><li><span><a href=\"#A-few-intro-words\" data-toc-modified-id=\"A-few-intro-words-2\"><span class=\"toc-item-num\">2&nbsp;&nbsp;</span>A few intro-words</a></span></li><li><span><a href=\"#Read-the-data\" data-toc-modified-id=\"Read-the-data-3\"><span class=\"toc-item-num\">3&nbsp;&nbsp;</span>Read the data</a></span></li><li><span><a href=\"#Add-some-gaps-in-the-data\" data-toc-modified-id=\"Add-some-gaps-in-the-data-4\"><span class=\"toc-item-num\">4&nbsp;&nbsp;</span>Add some gaps in the data</a></span></li><li><span><a href=\"#Imputers\" data-toc-modified-id=\"Imputers-5\"><span class=\"toc-item-num\">5&nbsp;&nbsp;</span>Imputers</a></span><ul class=\"toc-item\"><li><span><a href=\"#sklearn.impute.SimpleImputer\" data-toc-modified-id=\"sklearn.impute.SimpleImputer-5.1\"><span class=\"toc-item-num\">5.1&nbsp;&nbsp;</span>sklearn.impute.SimpleImputer</a></span></li></ul></li><li><span><a href=\"#Scalers\" data-toc-modified-id=\"Scalers-6\"><span class=\"toc-item-num\">6&nbsp;&nbsp;</span>Scalers</a></span><ul class=\"toc-item\"><li><span><a href=\"#sklearn.preprocessing.MaxAbsScaler\" data-toc-modified-id=\"sklearn.preprocessing.MaxAbsScaler-6.1\"><span class=\"toc-item-num\">6.1&nbsp;&nbsp;</span>sklearn.preprocessing.MaxAbsScaler</a></span></li><li><span><a href=\"#sklearn.preprocessing.MinMaxScaler\" data-toc-modified-id=\"sklearn.preprocessing.MinMaxScaler-6.2\"><span class=\"toc-item-num\">6.2&nbsp;&nbsp;</span>sklearn.preprocessing.MinMaxScaler</a></span></li><li><span><a href=\"#sklearn.preprocessing.RobustScaler\" data-toc-modified-id=\"sklearn.preprocessing.RobustScaler-6.3\"><span class=\"toc-item-num\">6.3&nbsp;&nbsp;</span>sklearn.preprocessing.RobustScaler</a></span></li><li><span><a href=\"#sklearn.preprocessing.StandardScaler\" data-toc-modified-id=\"sklearn.preprocessing.StandardScaler-6.4\"><span class=\"toc-item-num\">6.4&nbsp;&nbsp;</span>sklearn.preprocessing.StandardScaler</a></span></li></ul></li><li><span><a href=\"#Transformers\" data-toc-modified-id=\"Transformers-7\"><span class=\"toc-item-num\">7&nbsp;&nbsp;</span>Transformers</a></span><ul class=\"toc-item\"><li><span><a href=\"#sklearn.preprocessing.FunctionTransformer\" data-toc-modified-id=\"sklearn.preprocessing.FunctionTransformer-7.1\"><span class=\"toc-item-num\">7.1&nbsp;&nbsp;</span>sklearn.preprocessing.FunctionTransformer</a></span></li><li><span><a href=\"#sklearn.preprocessing.PowerTransformer\" data-toc-modified-id=\"sklearn.preprocessing.PowerTransformer-7.2\"><span class=\"toc-item-num\">7.2&nbsp;&nbsp;</span>sklearn.preprocessing.PowerTransformer</a></span></li><li><span><a href=\"#sklearn.preprocessing.QuantileTransformer\" data-toc-modified-id=\"sklearn.preprocessing.QuantileTransformer-7.3\"><span class=\"toc-item-num\">7.3&nbsp;&nbsp;</span>sklearn.preprocessing.QuantileTransformer</a></span></li></ul></li><li><span><a href=\"#Encoders\" data-toc-modified-id=\"Encoders-8\"><span class=\"toc-item-num\">8&nbsp;&nbsp;</span>Encoders</a></span><ul class=\"toc-item\"><li><span><a href=\"#sklearn.preprocessing.LabelEncoder\" data-toc-modified-id=\"sklearn.preprocessing.LabelEncoder-8.1\"><span class=\"toc-item-num\">8.1&nbsp;&nbsp;</span>sklearn.preprocessing.LabelEncoder</a></span></li><li><span><a href=\"#sklearn.preprocessing.LabelBinarizer\" data-toc-modified-id=\"sklearn.preprocessing.LabelBinarizer-8.2\"><span class=\"toc-item-num\">8.2&nbsp;&nbsp;</span>sklearn.preprocessing.LabelBinarizer</a></span></li><li><span><a href=\"#sklearn.preprocessing.OneHotEncoder\" data-toc-modified-id=\"sklearn.preprocessing.OneHotEncoder-8.3\"><span class=\"toc-item-num\">8.3&nbsp;&nbsp;</span>sklearn.preprocessing.OneHotEncoder</a></span></li><li><span><a href=\"#sklearn.preprocessing.OrdinalEncoder\" data-toc-modified-id=\"sklearn.preprocessing.OrdinalEncoder-8.4\"><span class=\"toc-item-num\">8.4&nbsp;&nbsp;</span>sklearn.preprocessing.OrdinalEncoder</a></span></li></ul></li><li><span><a href=\"#Target-balancers\" data-toc-modified-id=\"Target-balancers-9\"><span class=\"toc-item-num\">9&nbsp;&nbsp;</span>Target balancers</a></span><ul class=\"toc-item\"><li><span><a href=\"#Under-sampling\" data-toc-modified-id=\"Under-sampling-9.1\"><span class=\"toc-item-num\">9.1&nbsp;&nbsp;</span>Under-sampling</a></span><ul class=\"toc-item\"><li><span><a href=\"#imblearn.under_sampling.RandomUnderSampler\" data-toc-modified-id=\"imblearn.under_sampling.RandomUnderSampler-9.1.1\"><span class=\"toc-item-num\">9.1.1&nbsp;&nbsp;</span>imblearn.under_sampling.RandomUnderSampler</a></span></li><li><span><a href=\"#imblearn.under_sampling.ClusterCentroids\" data-toc-modified-id=\"imblearn.under_sampling.ClusterCentroids-9.1.2\"><span class=\"toc-item-num\">9.1.2&nbsp;&nbsp;</span>imblearn.under_sampling.ClusterCentroids</a></span></li><li><span><a href=\"#imblearn.under_sampling.NearMiss\" data-toc-modified-id=\"imblearn.under_sampling.NearMiss-9.1.3\"><span class=\"toc-item-num\">9.1.3&nbsp;&nbsp;</span>imblearn.under_sampling.NearMiss</a></span></li></ul></li><li><span><a href=\"#Over-sampling\" data-toc-modified-id=\"Over-sampling-9.2\"><span class=\"toc-item-num\">9.2&nbsp;&nbsp;</span>Over-sampling</a></span><ul class=\"toc-item\"><li><span><a href=\"#imblearn.over_sampling.RandomOverSampler\" data-toc-modified-id=\"imblearn.over_sampling.RandomOverSampler-9.2.1\"><span class=\"toc-item-num\">9.2.1&nbsp;&nbsp;</span>imblearn.over_sampling.RandomOverSampler</a></span></li><li><span><a href=\"#imblearn.over_sampling.SMOTE\" data-toc-modified-id=\"imblearn.over_sampling.SMOTE-9.2.2\"><span class=\"toc-item-num\">9.2.2&nbsp;&nbsp;</span>imblearn.over_sampling.SMOTE</a></span></li><li><span><a href=\"#imblearn.over_sampling.ADASYN\" data-toc-modified-id=\"imblearn.over_sampling.ADASYN-9.2.3\"><span class=\"toc-item-num\">9.2.3&nbsp;&nbsp;</span>imblearn.over_sampling.ADASYN</a></span></li></ul></li></ul></li><li><span><a href=\"#A-bit-about-the-mess-that-was-created-so-far\" data-toc-modified-id=\"A-bit-about-the-mess-that-was-created-so-far-10\"><span class=\"toc-item-num\">10&nbsp;&nbsp;</span>A bit about the mess that was created so far</a></span></li><li><span><a href=\"#Conclusion\" data-toc-modified-id=\"Conclusion-11\"><span class=\"toc-item-num\">11&nbsp;&nbsp;</span>Conclusion</a></span></li></ul></div>"
   ]
  },
  {
   "cell_type": "markdown",
   "metadata": {
    "collapsed": true
   },
   "source": [
    "# All improts necessary"
   ]
  },
  {
   "cell_type": "code",
   "execution_count": null,
   "metadata": {},
   "outputs": [],
   "source": [
    "import warnings\n",
    "warnings.filterwarnings(\"ignore\")"
   ]
  },
  {
   "cell_type": "code",
   "execution_count": null,
   "metadata": {},
   "outputs": [],
   "source": [
    "import pandas as pd\n",
    "import numpy as np\n",
    "\n",
    "from sklearn.impute import SimpleImputer\n",
    "from sklearn.impute import MissingIndicator\n",
    "\n",
    "from sklearn.preprocessing import MaxAbsScaler\n",
    "from sklearn.preprocessing import MinMaxScaler\n",
    "from sklearn.preprocessing import RobustScaler\n",
    "from sklearn.preprocessing import StandardScaler\n",
    "\n",
    "from sklearn.preprocessing import FunctionTransformer\n",
    "from sklearn.preprocessing import PowerTransformer\n",
    "from sklearn.preprocessing import QuantileTransformer\n",
    "\n",
    "from sklearn.preprocessing import LabelEncoder\n",
    "from sklearn.preprocessing import LabelBinarizer\n",
    "from sklearn.preprocessing import OneHotEncoder\n",
    "from sklearn.preprocessing import OrdinalEncoder\n",
    "\n",
    "\n",
    "from imblearn.under_sampling import RandomUnderSampler\n",
    "from imblearn.under_sampling import ClusterCentroids\n",
    "from imblearn.under_sampling import NearMiss\n",
    "\n",
    "from imblearn.over_sampling import RandomOverSampler\n",
    "from imblearn.over_sampling import SMOTE\n",
    "from imblearn.over_sampling import ADASYN\n",
    "\n",
    "import matplotlib.pyplot as plt\n",
    "import seaborn as sns"
   ]
  },
  {
   "cell_type": "code",
   "execution_count": null,
   "metadata": {},
   "outputs": [],
   "source": [
    "%matplotlib inline"
   ]
  },
  {
   "cell_type": "code",
   "execution_count": null,
   "metadata": {},
   "outputs": [],
   "source": [
    "sns.set(font_scale=2)"
   ]
  },
  {
   "cell_type": "markdown",
   "metadata": {
    "heading_collapsed": true
   },
   "source": [
    "# A few intro-words"
   ]
  },
  {
   "cell_type": "markdown",
   "metadata": {
    "hidden": true
   },
   "source": [
    "Если в двух словах, то: предобработка важна))\n",
    "\n",
    "На этом бы можно и завержить рассказ, но это примерно как на вопрос \"Как тебя зовут?\" ответить \"Так, как меня назвали\"))\n",
    "\n",
    "Вообще говоря, под предобработкой данных могут пониматься довольно разные наборы активностей.\n",
    "\n",
    "Для изображений это может быть масштабирование картинок, их обрезание, наложение различных масок, повороты, смещения и т.д. и т.п.\n",
    "\n",
    "Для текста это, соответственно, лемматизация, стэмминг, выделение суффиксов и аффиксов, применение различных регулярок.\n",
    "\n",
    "Для табличных данных своя песня, тут вам и заполнение пропусков в ячейках, и нормализация признаков, и различные линейные\\нелинейные преобразования, и квантование, и бинаризация и мнооооого еще чего.\n",
    "\n",
    "В данном ноуте мы, опять-таки, не будем вгрызаться в глубокие дебри плюсов и минусов приведенных тут техник (хотя, конечно, все относительно)))\n",
    "\n",
    "Вместо этого пробежимся по некоторым из техник, имплементации для которых содержатся в scikit-learn и imbalanced-learn, с тем, чтобы иметь некое общее представление."
   ]
  },
  {
   "cell_type": "markdown",
   "metadata": {
    "heading_collapsed": true
   },
   "source": [
    "# Read the data"
   ]
  },
  {
   "cell_type": "code",
   "execution_count": null,
   "metadata": {
    "hidden": true
   },
   "outputs": [],
   "source": [
    "data = pd.read_csv('../data/datasets/TS_Summer_2018/data.csv', sep=';')"
   ]
  },
  {
   "cell_type": "code",
   "execution_count": null,
   "metadata": {
    "hidden": true
   },
   "outputs": [],
   "source": [
    "data.head().T"
   ]
  },
  {
   "cell_type": "code",
   "execution_count": null,
   "metadata": {
    "hidden": true
   },
   "outputs": [],
   "source": [
    "data.info()"
   ]
  },
  {
   "cell_type": "markdown",
   "metadata": {
    "heading_collapsed": true
   },
   "source": [
    "# Add some gaps in the data"
   ]
  },
  {
   "cell_type": "markdown",
   "metadata": {
    "hidden": true
   },
   "source": [
    "Прикинемся, что в данных есть пропуски.\n",
    "\n",
    "Для этого возьмем все признаки, кроме целевого и закинем туда охапку nan-ов:"
   ]
  },
  {
   "cell_type": "code",
   "execution_count": null,
   "metadata": {
    "hidden": true
   },
   "outputs": [],
   "source": [
    "columns_with_gaps = data.columns[:-1]"
   ]
  },
  {
   "cell_type": "code",
   "execution_count": null,
   "metadata": {
    "hidden": true
   },
   "outputs": [],
   "source": [
    "columns_with_gaps"
   ]
  },
  {
   "cell_type": "markdown",
   "metadata": {
    "hidden": true
   },
   "source": [
    "Будем брать процент пропусков в признаке от 0 до 30:"
   ]
  },
  {
   "cell_type": "code",
   "execution_count": null,
   "metadata": {
    "hidden": true
   },
   "outputs": [],
   "source": [
    "minimum = 0\n",
    "maximum = 0.3"
   ]
  },
  {
   "cell_type": "markdown",
   "metadata": {
    "hidden": true
   },
   "source": [
    "Слепим словарь, он нам пригодится для того, чтобы бежать по признакам и закидывать туда пропуски:"
   ]
  },
  {
   "cell_type": "code",
   "execution_count": null,
   "metadata": {
    "hidden": true
   },
   "outputs": [],
   "source": [
    "columns_with_gaps_dict = dict(\n",
    "    zip(\n",
    "        columns_with_gaps,\n",
    "        np.random.uniform(\n",
    "            minimum,\n",
    "            maximum,\n",
    "            len(columns_with_gaps)\n",
    "        )\n",
    "    )\n",
    ")"
   ]
  },
  {
   "cell_type": "code",
   "execution_count": null,
   "metadata": {
    "hidden": true
   },
   "outputs": [],
   "source": [
    "columns_with_gaps_dict"
   ]
  },
  {
   "cell_type": "markdown",
   "metadata": {
    "hidden": true
   },
   "source": [
    "Теперь, чтобы не попортить исходные данные, возьмем их копию и наполним ее пропусками:"
   ]
  },
  {
   "cell_type": "code",
   "execution_count": null,
   "metadata": {
    "hidden": true
   },
   "outputs": [],
   "source": [
    "data_with_gaps_v1 = data.copy()"
   ]
  },
  {
   "cell_type": "code",
   "execution_count": null,
   "metadata": {
    "hidden": true
   },
   "outputs": [],
   "source": [
    "for column in columns_with_gaps:\n",
    "    if columns_with_gaps_dict[column] > 0:\n",
    "        gaps_count = int(len(data_with_gaps_v1) * columns_with_gaps_dict[column])\n",
    "        data_with_gaps_v1[column].iloc[\n",
    "            np.random.randint(\n",
    "                0,\n",
    "                len(data_with_gaps_v1),\n",
    "                gaps_count\n",
    "            )\n",
    "        ] = np.nan"
   ]
  },
  {
   "cell_type": "code",
   "execution_count": null,
   "metadata": {
    "hidden": true
   },
   "outputs": [],
   "source": [
    "data_with_gaps_v1.info(verbose=True, null_counts=True)"
   ]
  },
  {
   "cell_type": "markdown",
   "metadata": {
    "heading_collapsed": true
   },
   "source": [
    "# Imputers"
   ]
  },
  {
   "cell_type": "markdown",
   "metadata": {
    "hidden": true
   },
   "source": [
    "Пропуски, понятное дело, вещь вполне ожидаемая.\n",
    "\n",
    "Если в вашей задаче нет пропусков, то возможно, что вам это снится или вы работаете над задачей из параллельного мира, где нет страданий и все счастливы.\n",
    "\n",
    "Впрочем, если вы все-таки в реальном мире, то (в том или ином виде) вам нужно будет обрабатывать пропуски в данных.\n",
    "\n",
    "На вскидку можно перечислить несколько вариантов:\n",
    "- выкинуть те строки\\столбцы, где встречаются пропуски;\n",
    "- заполнить пропуски какими-нибудь значениями по умолчанию (например 0 или -1 для вещественных признаков или \"unknown\" для категориальных);\n",
    "- заполнить пропуски статистиками;\n",
    "- попробовать выделить подпространство без пропусков, посчитать [K-мерное дерево](http://scikit-learn.org/0.19/modules/generated/sklearn.neighbors.KDTree.html#sklearn.neighbors.KDTree) и по нему уже брать ТОП-(сколько-нибудь) ближайших объектов и уже на них либо считать статистику (среднее или медиана для вещественных, мода - для категориальных);\n",
    "- и т.д.\n",
    "\n",
    "К слову сказать, по этому поводу написана целая [книга](http://books.sernam.ru/book_stan.php).\n",
    "\n",
    "Мы здесь подробно на этой теме останавливаться не будем.\n",
    "\n",
    "Рассмотрим лишь несколько самых простых подходов, которые могут встретиться вам на практике."
   ]
  },
  {
   "cell_type": "markdown",
   "metadata": {
    "heading_collapsed": true,
    "hidden": true
   },
   "source": [
    "## sklearn.impute.SimpleImputer"
   ]
  },
  {
   "cell_type": "markdown",
   "metadata": {
    "hidden": true
   },
   "source": [
    "Здесь мы заюзаем довольно простой в обращении класс, который предоставляет несколько опций, а именно:\n",
    "- заполнить пропуски средними значениями;\n",
    "- заполнить пропуски медианами;\n",
    "- заполнить пропуски модами;\n",
    "- заполнить пропуски константами.\n",
    "\n",
    "Но сначала вспомним из EDA.ipynb, что в данных признаки, в целом, двух типов: вещественные и категориальные. Применим разные стратегии к разным подмножествам признаков:"
   ]
  },
  {
   "cell_type": "code",
   "execution_count": null,
   "metadata": {
    "hidden": true
   },
   "outputs": [],
   "source": [
    "numerical_features = [\n",
    "    'age',\n",
    "    'campaign',\n",
    "    'cons.conf.idx',\n",
    "    'cons.price.idx',\n",
    "    'duration',\n",
    "    'emp.var.rate',\n",
    "    'euribor3m',\n",
    "    'nr.employed',\n",
    "    'pdays',\n",
    "    'previous'\n",
    "]"
   ]
  },
  {
   "cell_type": "code",
   "execution_count": null,
   "metadata": {
    "hidden": true
   },
   "outputs": [],
   "source": [
    "categorial_features = [\n",
    "    'contact',\n",
    "    'day_of_week',\n",
    "    'default',\n",
    "    'education',\n",
    "    'housing',\n",
    "    'job',\n",
    "    'loan',\n",
    "    'marital',\n",
    "    'month',\n",
    "    'poutcome'\n",
    "]"
   ]
  },
  {
   "cell_type": "code",
   "execution_count": null,
   "metadata": {
    "hidden": true
   },
   "outputs": [],
   "source": [
    "mean_imputer = SimpleImputer(\n",
    "    missing_values=np.nan,\n",
    "    strategy='mean',\n",
    "    verbose=True\n",
    ")"
   ]
  },
  {
   "cell_type": "code",
   "execution_count": null,
   "metadata": {
    "hidden": true
   },
   "outputs": [],
   "source": [
    "median_imputer = SimpleImputer(\n",
    "    missing_values=np.nan,\n",
    "    strategy='median',\n",
    "    verbose=True\n",
    ")"
   ]
  },
  {
   "cell_type": "code",
   "execution_count": null,
   "metadata": {
    "hidden": true
   },
   "outputs": [],
   "source": [
    "most_frequent_imputer = SimpleImputer(\n",
    "    missing_values=np.nan,\n",
    "    strategy='most_frequent',\n",
    "    verbose=True\n",
    ")"
   ]
  },
  {
   "cell_type": "code",
   "execution_count": null,
   "metadata": {
    "hidden": true
   },
   "outputs": [],
   "source": [
    "constant_imputer = SimpleImputer(\n",
    "    missing_values=np.nan,\n",
    "    strategy='constant',\n",
    "    fill_value='unknown',\n",
    "    verbose=True\n",
    ")"
   ]
  },
  {
   "cell_type": "code",
   "execution_count": null,
   "metadata": {
    "hidden": true
   },
   "outputs": [],
   "source": [
    "numericals_with_mean_imputed = pd.DataFrame(\n",
    "    mean_imputer.fit_transform(data_with_gaps_v1[numerical_features]),\n",
    "    columns=numerical_features\n",
    ")"
   ]
  },
  {
   "cell_type": "code",
   "execution_count": null,
   "metadata": {
    "hidden": true
   },
   "outputs": [],
   "source": [
    "numericals_with_mean_imputed.describe().T"
   ]
  },
  {
   "cell_type": "code",
   "execution_count": null,
   "metadata": {
    "hidden": true
   },
   "outputs": [],
   "source": [
    "numericals_with_mean_imputed.head().T"
   ]
  },
  {
   "cell_type": "code",
   "execution_count": null,
   "metadata": {
    "hidden": true
   },
   "outputs": [],
   "source": [
    "plt.figure(figsize=(35, 15))\n",
    "sns.boxplot(data=numericals_with_mean_imputed)\n",
    "plt.show()"
   ]
  },
  {
   "cell_type": "code",
   "execution_count": null,
   "metadata": {
    "hidden": true
   },
   "outputs": [],
   "source": [
    "numericals_with_median_imputed = pd.DataFrame(\n",
    "    median_imputer.fit_transform(data_with_gaps_v1[numerical_features]),\n",
    "    columns=numerical_features\n",
    ")"
   ]
  },
  {
   "cell_type": "code",
   "execution_count": null,
   "metadata": {
    "hidden": true
   },
   "outputs": [],
   "source": [
    "numericals_with_median_imputed.describe().append(\n",
    "    data_with_gaps_v1[numerical_features].median().rename(\"median\")\n",
    ").T"
   ]
  },
  {
   "cell_type": "code",
   "execution_count": null,
   "metadata": {
    "hidden": true
   },
   "outputs": [],
   "source": [
    "numericals_with_median_imputed.head().T"
   ]
  },
  {
   "cell_type": "code",
   "execution_count": null,
   "metadata": {
    "hidden": true
   },
   "outputs": [],
   "source": [
    "plt.figure(figsize=(35, 15))\n",
    "sns.boxplot(data=numericals_with_median_imputed)\n",
    "plt.show()"
   ]
  },
  {
   "cell_type": "code",
   "execution_count": null,
   "metadata": {
    "hidden": true
   },
   "outputs": [],
   "source": [
    "numericals_with_most_frequent_imputed = pd.DataFrame(\n",
    "    most_frequent_imputer.fit_transform(data_with_gaps_v1[numerical_features]),\n",
    "    columns=numerical_features\n",
    ")"
   ]
  },
  {
   "cell_type": "code",
   "execution_count": null,
   "metadata": {
    "hidden": true
   },
   "outputs": [],
   "source": [
    "numericals_with_most_frequent_imputed.describe().append(\n",
    "    data_with_gaps_v1[numerical_features].mode().loc[0].rename(\"most_frequent\")\n",
    ").T"
   ]
  },
  {
   "cell_type": "code",
   "execution_count": null,
   "metadata": {
    "hidden": true
   },
   "outputs": [],
   "source": [
    "numericals_with_most_frequent_imputed.head().T"
   ]
  },
  {
   "cell_type": "code",
   "execution_count": null,
   "metadata": {
    "hidden": true
   },
   "outputs": [],
   "source": [
    "plt.figure(figsize=(35, 15))\n",
    "sns.boxplot(data=numericals_with_most_frequent_imputed)\n",
    "plt.show()"
   ]
  },
  {
   "cell_type": "code",
   "execution_count": null,
   "metadata": {
    "hidden": true
   },
   "outputs": [],
   "source": [
    "categorials_with_constant_imputed = pd.DataFrame(\n",
    "    constant_imputer.fit_transform(data_with_gaps_v1[categorial_features]),\n",
    "    columns=categorial_features\n",
    ")"
   ]
  },
  {
   "cell_type": "code",
   "execution_count": null,
   "metadata": {
    "hidden": true
   },
   "outputs": [],
   "source": [
    "categorials_with_constant_imputed[categorial_features[0]].value_counts()"
   ]
  },
  {
   "cell_type": "code",
   "execution_count": null,
   "metadata": {
    "hidden": true
   },
   "outputs": [],
   "source": [
    "categorials_with_constant_imputed[categorial_features[2]].value_counts()"
   ]
  },
  {
   "cell_type": "code",
   "execution_count": null,
   "metadata": {
    "hidden": true
   },
   "outputs": [],
   "source": [
    "categorials_with_constant_imputed[categorial_features[2]].value_counts()"
   ]
  },
  {
   "cell_type": "code",
   "execution_count": null,
   "metadata": {
    "hidden": true
   },
   "outputs": [],
   "source": [
    "categorials_with_constant_imputed.head()"
   ]
  },
  {
   "cell_type": "markdown",
   "metadata": {
    "heading_collapsed": true
   },
   "source": [
    "# Scalers"
   ]
  },
  {
   "cell_type": "markdown",
   "metadata": {
    "hidden": true
   },
   "source": [
    "Нормализация данных - обычное дело.\n",
    "\n",
    "Это вещь очень полезная в том случае, если вы используете алгоритмы, чувствительные к масштабу (например метрические алгоритмы).\n",
    "\n",
    "Здесь мы рассмотрим некоторые из вариантов."
   ]
  },
  {
   "cell_type": "markdown",
   "metadata": {
    "heading_collapsed": true,
    "hidden": true
   },
   "source": [
    "## sklearn.preprocessing.MaxAbsScaler"
   ]
  },
  {
   "cell_type": "code",
   "execution_count": null,
   "metadata": {
    "hidden": true
   },
   "outputs": [],
   "source": [
    "max_abs_scaler = MaxAbsScaler()"
   ]
  },
  {
   "cell_type": "code",
   "execution_count": null,
   "metadata": {
    "hidden": true
   },
   "outputs": [],
   "source": [
    "numericals_with_mean_imputed_max_abs_scaled = pd.DataFrame(\n",
    "    max_abs_scaler.fit_transform(numericals_with_mean_imputed),\n",
    "    columns=numerical_features\n",
    ")"
   ]
  },
  {
   "cell_type": "code",
   "execution_count": null,
   "metadata": {
    "hidden": true
   },
   "outputs": [],
   "source": [
    "numericals_with_mean_imputed_max_abs_scaled.describe().T"
   ]
  },
  {
   "cell_type": "code",
   "execution_count": null,
   "metadata": {
    "hidden": true
   },
   "outputs": [],
   "source": [
    "plt.figure(figsize=(35, 15))\n",
    "sns.boxplot(data=numericals_with_mean_imputed_max_abs_scaled)\n",
    "plt.show()"
   ]
  },
  {
   "cell_type": "code",
   "execution_count": null,
   "metadata": {
    "hidden": true
   },
   "outputs": [],
   "source": [
    "numericals_with_median_imputed_max_abs_scaled = pd.DataFrame(\n",
    "    max_abs_scaler.fit_transform(numericals_with_median_imputed),\n",
    "    columns=numerical_features\n",
    ")"
   ]
  },
  {
   "cell_type": "code",
   "execution_count": null,
   "metadata": {
    "hidden": true
   },
   "outputs": [],
   "source": [
    "numericals_with_median_imputed_max_abs_scaled.describe().T"
   ]
  },
  {
   "cell_type": "code",
   "execution_count": null,
   "metadata": {
    "hidden": true
   },
   "outputs": [],
   "source": [
    "plt.figure(figsize=(35, 15))\n",
    "sns.boxplot(data=numericals_with_median_imputed_max_abs_scaled)\n",
    "plt.show()"
   ]
  },
  {
   "cell_type": "code",
   "execution_count": null,
   "metadata": {
    "hidden": true
   },
   "outputs": [],
   "source": [
    "numericals_with_most_frequent_imputed_max_abs_scaled = pd.DataFrame(\n",
    "    max_abs_scaler.fit_transform(numericals_with_most_frequent_imputed),\n",
    "    columns=numerical_features\n",
    ")"
   ]
  },
  {
   "cell_type": "code",
   "execution_count": null,
   "metadata": {
    "hidden": true
   },
   "outputs": [],
   "source": [
    "numericals_with_most_frequent_imputed_max_abs_scaled.describe().T"
   ]
  },
  {
   "cell_type": "code",
   "execution_count": null,
   "metadata": {
    "hidden": true
   },
   "outputs": [],
   "source": [
    "plt.figure(figsize=(35, 15))\n",
    "sns.boxplot(data=numericals_with_most_frequent_imputed_max_abs_scaled)\n",
    "plt.show()"
   ]
  },
  {
   "cell_type": "markdown",
   "metadata": {
    "heading_collapsed": true,
    "hidden": true
   },
   "source": [
    "## sklearn.preprocessing.MinMaxScaler"
   ]
  },
  {
   "cell_type": "code",
   "execution_count": null,
   "metadata": {
    "hidden": true
   },
   "outputs": [],
   "source": [
    "min_max_scaler = MinMaxScaler()"
   ]
  },
  {
   "cell_type": "code",
   "execution_count": null,
   "metadata": {
    "hidden": true
   },
   "outputs": [],
   "source": [
    "numericals_with_mean_imputed_min_max_scaled = pd.DataFrame(\n",
    "    min_max_scaler.fit_transform(numericals_with_mean_imputed),\n",
    "    columns=numerical_features\n",
    ")"
   ]
  },
  {
   "cell_type": "code",
   "execution_count": null,
   "metadata": {
    "hidden": true
   },
   "outputs": [],
   "source": [
    "numericals_with_mean_imputed_min_max_scaled.describe().T"
   ]
  },
  {
   "cell_type": "code",
   "execution_count": null,
   "metadata": {
    "hidden": true
   },
   "outputs": [],
   "source": [
    "plt.figure(figsize=(35, 15))\n",
    "sns.boxplot(data=numericals_with_mean_imputed_min_max_scaled)\n",
    "plt.show()"
   ]
  },
  {
   "cell_type": "code",
   "execution_count": null,
   "metadata": {
    "hidden": true
   },
   "outputs": [],
   "source": [
    "numericals_with_median_imputed_min_max_scaled = pd.DataFrame(\n",
    "    min_max_scaler.fit_transform(numericals_with_median_imputed),\n",
    "    columns=numerical_features\n",
    ")"
   ]
  },
  {
   "cell_type": "code",
   "execution_count": null,
   "metadata": {
    "hidden": true
   },
   "outputs": [],
   "source": [
    "numericals_with_median_imputed_min_max_scaled.describe().T"
   ]
  },
  {
   "cell_type": "code",
   "execution_count": null,
   "metadata": {
    "hidden": true
   },
   "outputs": [],
   "source": [
    "plt.figure(figsize=(35, 15))\n",
    "sns.boxplot(data=numericals_with_median_imputed_min_max_scaled)\n",
    "plt.show()"
   ]
  },
  {
   "cell_type": "code",
   "execution_count": null,
   "metadata": {
    "hidden": true
   },
   "outputs": [],
   "source": [
    "numericals_with_most_frequent_imputed_min_max_scaled = pd.DataFrame(\n",
    "    min_max_scaler.fit_transform(numericals_with_most_frequent_imputed),\n",
    "    columns=numerical_features\n",
    ")"
   ]
  },
  {
   "cell_type": "code",
   "execution_count": null,
   "metadata": {
    "hidden": true
   },
   "outputs": [],
   "source": [
    "numericals_with_most_frequent_imputed_min_max_scaled.describe().T"
   ]
  },
  {
   "cell_type": "code",
   "execution_count": null,
   "metadata": {
    "hidden": true
   },
   "outputs": [],
   "source": [
    "plt.figure(figsize=(35, 15))\n",
    "sns.boxplot(data=numericals_with_most_frequent_imputed_min_max_scaled)\n",
    "plt.show()"
   ]
  },
  {
   "cell_type": "markdown",
   "metadata": {
    "heading_collapsed": true,
    "hidden": true
   },
   "source": [
    "## sklearn.preprocessing.RobustScaler"
   ]
  },
  {
   "cell_type": "code",
   "execution_count": null,
   "metadata": {
    "hidden": true
   },
   "outputs": [],
   "source": [
    "robust_scaler = RobustScaler()"
   ]
  },
  {
   "cell_type": "code",
   "execution_count": null,
   "metadata": {
    "hidden": true
   },
   "outputs": [],
   "source": [
    "numericals_with_mean_imputed_robust_scaled = pd.DataFrame(\n",
    "    robust_scaler.fit_transform(numericals_with_mean_imputed),\n",
    "    columns=numerical_features\n",
    ")"
   ]
  },
  {
   "cell_type": "code",
   "execution_count": null,
   "metadata": {
    "hidden": true
   },
   "outputs": [],
   "source": [
    "numericals_with_mean_imputed_robust_scaled.describe().T"
   ]
  },
  {
   "cell_type": "code",
   "execution_count": null,
   "metadata": {
    "hidden": true
   },
   "outputs": [],
   "source": [
    "plt.figure(figsize=(35, 15))\n",
    "sns.boxplot(data=numericals_with_mean_imputed_robust_scaled)\n",
    "plt.show()"
   ]
  },
  {
   "cell_type": "code",
   "execution_count": null,
   "metadata": {
    "hidden": true
   },
   "outputs": [],
   "source": [
    "numericals_with_median_imputed_robust_scaled = pd.DataFrame(\n",
    "    robust_scaler.fit_transform(numericals_with_median_imputed),\n",
    "    columns=numerical_features\n",
    ")"
   ]
  },
  {
   "cell_type": "code",
   "execution_count": null,
   "metadata": {
    "hidden": true
   },
   "outputs": [],
   "source": [
    "numericals_with_median_imputed_robust_scaled.describe().T"
   ]
  },
  {
   "cell_type": "code",
   "execution_count": null,
   "metadata": {
    "hidden": true
   },
   "outputs": [],
   "source": [
    "plt.figure(figsize=(35, 15))\n",
    "sns.boxplot(data=numericals_with_median_imputed_robust_scaled)\n",
    "plt.show()"
   ]
  },
  {
   "cell_type": "code",
   "execution_count": null,
   "metadata": {
    "hidden": true
   },
   "outputs": [],
   "source": [
    "numericals_with_most_frequent_imputed_robust_scaled = pd.DataFrame(\n",
    "    robust_scaler.fit_transform(numericals_with_most_frequent_imputed),\n",
    "    columns=numerical_features\n",
    ")"
   ]
  },
  {
   "cell_type": "code",
   "execution_count": null,
   "metadata": {
    "hidden": true
   },
   "outputs": [],
   "source": [
    "numericals_with_most_frequent_imputed_robust_scaled.describe().T"
   ]
  },
  {
   "cell_type": "code",
   "execution_count": null,
   "metadata": {
    "hidden": true
   },
   "outputs": [],
   "source": [
    "plt.figure(figsize=(35, 15))\n",
    "sns.boxplot(data=numericals_with_most_frequent_imputed_robust_scaled)\n",
    "plt.show()"
   ]
  },
  {
   "cell_type": "markdown",
   "metadata": {
    "heading_collapsed": true,
    "hidden": true
   },
   "source": [
    "## sklearn.preprocessing.StandardScaler"
   ]
  },
  {
   "cell_type": "code",
   "execution_count": null,
   "metadata": {
    "hidden": true
   },
   "outputs": [],
   "source": [
    "standard_scaler = StandardScaler()"
   ]
  },
  {
   "cell_type": "code",
   "execution_count": null,
   "metadata": {
    "hidden": true
   },
   "outputs": [],
   "source": [
    "numericals_with_mean_imputed_standard_scaled = pd.DataFrame(\n",
    "    standard_scaler.fit_transform(numericals_with_mean_imputed),\n",
    "    columns=numerical_features\n",
    ")"
   ]
  },
  {
   "cell_type": "code",
   "execution_count": null,
   "metadata": {
    "hidden": true
   },
   "outputs": [],
   "source": [
    "numericals_with_mean_imputed_standard_scaled.describe().T"
   ]
  },
  {
   "cell_type": "code",
   "execution_count": null,
   "metadata": {
    "hidden": true
   },
   "outputs": [],
   "source": [
    "plt.figure(figsize=(35, 15))\n",
    "sns.boxplot(data=numericals_with_mean_imputed_standard_scaled)\n",
    "plt.show()"
   ]
  },
  {
   "cell_type": "code",
   "execution_count": null,
   "metadata": {
    "hidden": true
   },
   "outputs": [],
   "source": [
    "numericals_with_median_imputed_standard_scaled = pd.DataFrame(\n",
    "    standard_scaler.fit_transform(numericals_with_median_imputed),\n",
    "    columns=numerical_features\n",
    ")"
   ]
  },
  {
   "cell_type": "code",
   "execution_count": null,
   "metadata": {
    "hidden": true
   },
   "outputs": [],
   "source": [
    "numericals_with_median_imputed_standard_scaled.describe().T"
   ]
  },
  {
   "cell_type": "code",
   "execution_count": null,
   "metadata": {
    "hidden": true
   },
   "outputs": [],
   "source": [
    "plt.figure(figsize=(35, 15))\n",
    "sns.boxplot(data=numericals_with_median_imputed_standard_scaled)\n",
    "plt.show()"
   ]
  },
  {
   "cell_type": "code",
   "execution_count": null,
   "metadata": {
    "hidden": true
   },
   "outputs": [],
   "source": [
    "numericals_with_most_frequent_imputed_standard_scaled = pd.DataFrame(\n",
    "    standard_scaler.fit_transform(numericals_with_most_frequent_imputed),\n",
    "    columns=numerical_features\n",
    ")"
   ]
  },
  {
   "cell_type": "code",
   "execution_count": null,
   "metadata": {
    "hidden": true
   },
   "outputs": [],
   "source": [
    "numericals_with_most_frequent_imputed_standard_scaled.describe().T"
   ]
  },
  {
   "cell_type": "code",
   "execution_count": null,
   "metadata": {
    "hidden": true
   },
   "outputs": [],
   "source": [
    "plt.figure(figsize=(35, 15))\n",
    "sns.boxplot(data=numericals_with_most_frequent_imputed_standard_scaled)\n",
    "plt.show()"
   ]
  },
  {
   "cell_type": "markdown",
   "metadata": {
    "heading_collapsed": true
   },
   "source": [
    "# Transformers"
   ]
  },
  {
   "cell_type": "markdown",
   "metadata": {
    "hidden": true
   },
   "source": []
  },
  {
   "cell_type": "markdown",
   "metadata": {
    "heading_collapsed": true,
    "hidden": true
   },
   "source": [
    "## sklearn.preprocessing.FunctionTransformer"
   ]
  },
  {
   "cell_type": "code",
   "execution_count": null,
   "metadata": {
    "hidden": true
   },
   "outputs": [],
   "source": [
    "def all_but_last_column(X):\n",
    "    return X[:, :-1]"
   ]
  },
  {
   "cell_type": "code",
   "execution_count": null,
   "metadata": {
    "hidden": true
   },
   "outputs": [],
   "source": [
    "function_transformer = FunctionTransformer(all_but_last_column)"
   ]
  },
  {
   "cell_type": "code",
   "execution_count": null,
   "metadata": {
    "hidden": true
   },
   "outputs": [],
   "source": [
    "numericals_with_median_imputed_standard_scaled_without_last_column = pd.DataFrame(\n",
    "    function_transformer.fit_transform(numericals_with_median_imputed_standard_scaled),\n",
    "    columns=numerical_features[:-1]\n",
    ")"
   ]
  },
  {
   "cell_type": "code",
   "execution_count": null,
   "metadata": {
    "hidden": true
   },
   "outputs": [],
   "source": [
    "plt.figure(figsize=(35, 15))\n",
    "sns.boxplot(data=numericals_with_median_imputed_standard_scaled_without_last_column)\n",
    "plt.show()"
   ]
  },
  {
   "cell_type": "markdown",
   "metadata": {
    "heading_collapsed": true,
    "hidden": true
   },
   "source": [
    "## sklearn.preprocessing.PowerTransformer"
   ]
  },
  {
   "cell_type": "code",
   "execution_count": null,
   "metadata": {
    "hidden": true
   },
   "outputs": [],
   "source": [
    "power_transformer = PowerTransformer()"
   ]
  },
  {
   "cell_type": "code",
   "execution_count": null,
   "metadata": {
    "hidden": true
   },
   "outputs": [],
   "source": [
    "numericals_with_median_imputed_standard_scaled_power_transformed = pd.DataFrame(\n",
    "    power_transformer.fit_transform(numericals_with_median_imputed_standard_scaled),\n",
    "    columns=numerical_features\n",
    ")"
   ]
  },
  {
   "cell_type": "code",
   "execution_count": null,
   "metadata": {
    "hidden": true
   },
   "outputs": [],
   "source": [
    "plt.figure(figsize=(35, 15))\n",
    "sns.boxplot(data=numericals_with_median_imputed_standard_scaled_power_transformed)\n",
    "plt.show()"
   ]
  },
  {
   "cell_type": "markdown",
   "metadata": {
    "heading_collapsed": true,
    "hidden": true
   },
   "source": [
    "## sklearn.preprocessing.QuantileTransformer"
   ]
  },
  {
   "cell_type": "code",
   "execution_count": null,
   "metadata": {
    "hidden": true
   },
   "outputs": [],
   "source": [
    "quantile_transformer = QuantileTransformer(output_distribution='normal')"
   ]
  },
  {
   "cell_type": "code",
   "execution_count": null,
   "metadata": {
    "hidden": true
   },
   "outputs": [],
   "source": [
    "numericals_with_median_imputed_standard_scaled_quantile_transformed = pd.DataFrame(\n",
    "    quantile_transformer.fit_transform(numericals_with_median_imputed_standard_scaled),\n",
    "    columns=numerical_features\n",
    ")"
   ]
  },
  {
   "cell_type": "code",
   "execution_count": null,
   "metadata": {
    "hidden": true
   },
   "outputs": [],
   "source": [
    "plt.figure(figsize=(35, 15))\n",
    "sns.boxplot(data=numericals_with_median_imputed_standard_scaled_quantile_transformed)\n",
    "plt.show()"
   ]
  },
  {
   "cell_type": "markdown",
   "metadata": {
    "heading_collapsed": true
   },
   "source": [
    "# Encoders"
   ]
  },
  {
   "cell_type": "markdown",
   "metadata": {
    "hidden": true
   },
   "source": []
  },
  {
   "cell_type": "markdown",
   "metadata": {
    "heading_collapsed": true,
    "hidden": true
   },
   "source": [
    "## sklearn.preprocessing.LabelEncoder"
   ]
  },
  {
   "cell_type": "code",
   "execution_count": null,
   "metadata": {
    "hidden": true
   },
   "outputs": [],
   "source": [
    "label_encoder = LabelEncoder()"
   ]
  },
  {
   "cell_type": "code",
   "execution_count": null,
   "metadata": {
    "hidden": true
   },
   "outputs": [],
   "source": [
    "y_encoded = label_encoder.fit_transform(data.y)"
   ]
  },
  {
   "cell_type": "code",
   "execution_count": null,
   "metadata": {
    "hidden": true
   },
   "outputs": [],
   "source": [
    "label_encoder.classes_"
   ]
  },
  {
   "cell_type": "code",
   "execution_count": null,
   "metadata": {
    "hidden": true
   },
   "outputs": [],
   "source": [
    "y_encoded"
   ]
  },
  {
   "cell_type": "code",
   "execution_count": null,
   "metadata": {
    "hidden": true
   },
   "outputs": [],
   "source": [
    "y_decoded = label_encoder.inverse_transform(y_encoded)"
   ]
  },
  {
   "cell_type": "code",
   "execution_count": null,
   "metadata": {
    "hidden": true
   },
   "outputs": [],
   "source": [
    "y_decoded"
   ]
  },
  {
   "cell_type": "markdown",
   "metadata": {
    "heading_collapsed": true,
    "hidden": true
   },
   "source": [
    "## sklearn.preprocessing.LabelBinarizer"
   ]
  },
  {
   "cell_type": "code",
   "execution_count": null,
   "metadata": {
    "hidden": true
   },
   "outputs": [],
   "source": [
    "label_binarizer = LabelBinarizer()"
   ]
  },
  {
   "cell_type": "code",
   "execution_count": null,
   "metadata": {
    "hidden": true
   },
   "outputs": [],
   "source": [
    "y_binarized = label_binarizer.fit_transform(data.y)"
   ]
  },
  {
   "cell_type": "code",
   "execution_count": null,
   "metadata": {
    "hidden": true
   },
   "outputs": [],
   "source": [
    "label_binarizer.classes_"
   ]
  },
  {
   "cell_type": "code",
   "execution_count": null,
   "metadata": {
    "hidden": true
   },
   "outputs": [],
   "source": [
    "label_binarizer.neg_label"
   ]
  },
  {
   "cell_type": "code",
   "execution_count": null,
   "metadata": {
    "hidden": true
   },
   "outputs": [],
   "source": [
    "label_binarizer.pos_label"
   ]
  },
  {
   "cell_type": "code",
   "execution_count": null,
   "metadata": {
    "hidden": true
   },
   "outputs": [],
   "source": [
    "label_binarizer.y_type_"
   ]
  },
  {
   "cell_type": "code",
   "execution_count": null,
   "metadata": {
    "hidden": true
   },
   "outputs": [],
   "source": [
    "y_binarized"
   ]
  },
  {
   "cell_type": "code",
   "execution_count": null,
   "metadata": {
    "hidden": true
   },
   "outputs": [],
   "source": [
    "y_original = label_binarizer.inverse_transform(y_binarized)"
   ]
  },
  {
   "cell_type": "code",
   "execution_count": null,
   "metadata": {
    "hidden": true
   },
   "outputs": [],
   "source": [
    "y_original"
   ]
  },
  {
   "cell_type": "markdown",
   "metadata": {
    "heading_collapsed": true,
    "hidden": true
   },
   "source": [
    "## sklearn.preprocessing.OneHotEncoder"
   ]
  },
  {
   "cell_type": "code",
   "execution_count": null,
   "metadata": {
    "hidden": true
   },
   "outputs": [],
   "source": [
    "one_hot_encoder = OneHotEncoder()"
   ]
  },
  {
   "cell_type": "code",
   "execution_count": null,
   "metadata": {
    "hidden": true
   },
   "outputs": [],
   "source": [
    "categorials_with_constant_imputed.head().T"
   ]
  },
  {
   "cell_type": "code",
   "execution_count": null,
   "metadata": {
    "hidden": true
   },
   "outputs": [],
   "source": [
    "categorials_with_constant_imputed_one_hot_encoded = one_hot_encoder.fit_transform(categorials_with_constant_imputed)"
   ]
  },
  {
   "cell_type": "code",
   "execution_count": null,
   "metadata": {
    "hidden": true
   },
   "outputs": [],
   "source": [
    "categorials_with_constant_imputed_one_hot_encoded.shape"
   ]
  },
  {
   "cell_type": "code",
   "execution_count": null,
   "metadata": {
    "hidden": true
   },
   "outputs": [],
   "source": [
    "type(categorials_with_constant_imputed_one_hot_encoded)"
   ]
  },
  {
   "cell_type": "code",
   "execution_count": null,
   "metadata": {
    "hidden": true
   },
   "outputs": [],
   "source": [
    "categorials_with_constant_imputed_one_hot_encoded.todense()"
   ]
  },
  {
   "cell_type": "code",
   "execution_count": null,
   "metadata": {
    "hidden": true
   },
   "outputs": [],
   "source": [
    "categorials_with_constant_imputed_one_hot_encoded = pd.DataFrame(\n",
    "    categorials_with_constant_imputed_one_hot_encoded.todense(),\n",
    "    columns=one_hot_encoder.get_feature_names()\n",
    ")"
   ]
  },
  {
   "cell_type": "code",
   "execution_count": null,
   "metadata": {
    "hidden": true
   },
   "outputs": [],
   "source": [
    "categorials_with_constant_imputed_one_hot_encoded.head().T"
   ]
  },
  {
   "cell_type": "code",
   "execution_count": null,
   "metadata": {
    "hidden": true
   },
   "outputs": [],
   "source": [
    "one_hot_encoder.categories_"
   ]
  },
  {
   "cell_type": "code",
   "execution_count": null,
   "metadata": {
    "hidden": true
   },
   "outputs": [],
   "source": [
    "one_hot_encoder.get_feature_names()"
   ]
  },
  {
   "cell_type": "code",
   "execution_count": null,
   "metadata": {
    "hidden": true
   },
   "outputs": [],
   "source": [
    "categorials_with_constant_imputed_one_hot_decoded = one_hot_encoder.inverse_transform(categorials_with_constant_imputed_one_hot_encoded)"
   ]
  },
  {
   "cell_type": "code",
   "execution_count": null,
   "metadata": {
    "hidden": true
   },
   "outputs": [],
   "source": [
    "categorials_with_constant_imputed_one_hot_decoded"
   ]
  },
  {
   "cell_type": "markdown",
   "metadata": {
    "heading_collapsed": true,
    "hidden": true
   },
   "source": [
    "## sklearn.preprocessing.OrdinalEncoder"
   ]
  },
  {
   "cell_type": "code",
   "execution_count": null,
   "metadata": {
    "hidden": true
   },
   "outputs": [],
   "source": [
    "ordinal_encoder = OrdinalEncoder()"
   ]
  },
  {
   "cell_type": "code",
   "execution_count": null,
   "metadata": {
    "hidden": true
   },
   "outputs": [],
   "source": [
    "categorials_with_constant_imputed_ordinal_encoded = ordinal_encoder.fit_transform(categorials_with_constant_imputed)"
   ]
  },
  {
   "cell_type": "code",
   "execution_count": null,
   "metadata": {
    "hidden": true
   },
   "outputs": [],
   "source": [
    "categorials_with_constant_imputed_ordinal_encoded"
   ]
  },
  {
   "cell_type": "code",
   "execution_count": null,
   "metadata": {
    "hidden": true
   },
   "outputs": [],
   "source": [
    "categorials_with_constant_imputed_ordinal_encoded.shape"
   ]
  },
  {
   "cell_type": "code",
   "execution_count": null,
   "metadata": {
    "hidden": true
   },
   "outputs": [],
   "source": [
    "ordinal_encoder.categories_"
   ]
  },
  {
   "cell_type": "code",
   "execution_count": null,
   "metadata": {
    "hidden": true
   },
   "outputs": [],
   "source": [
    "categorials_with_constant_imputed_ordinal_decoded = ordinal_encoder.inverse_transform(categorials_with_constant_imputed_ordinal_encoded)"
   ]
  },
  {
   "cell_type": "code",
   "execution_count": null,
   "metadata": {
    "hidden": true
   },
   "outputs": [],
   "source": [
    "categorials_with_constant_imputed_ordinal_decoded"
   ]
  },
  {
   "cell_type": "markdown",
   "metadata": {
    "heading_collapsed": true
   },
   "source": [
    "# Target balancers"
   ]
  },
  {
   "cell_type": "markdown",
   "metadata": {
    "hidden": true
   },
   "source": []
  },
  {
   "cell_type": "markdown",
   "metadata": {
    "heading_collapsed": true,
    "hidden": true
   },
   "source": [
    "## Under-sampling"
   ]
  },
  {
   "cell_type": "markdown",
   "metadata": {
    "heading_collapsed": true,
    "hidden": true
   },
   "source": [
    "### imblearn.under_sampling.RandomUnderSampler"
   ]
  },
  {
   "cell_type": "code",
   "execution_count": null,
   "metadata": {
    "hidden": true
   },
   "outputs": [],
   "source": [
    "random_undersampler = RandomUnderSampler(random_state=0)"
   ]
  },
  {
   "cell_type": "code",
   "execution_count": null,
   "metadata": {
    "hidden": true
   },
   "outputs": [],
   "source": [
    "X_resampled, y_resampled = random_undersampler.fit_resample(\n",
    "    data[numerical_features + categorial_features],\n",
    "    data.y\n",
    ")"
   ]
  },
  {
   "cell_type": "code",
   "execution_count": null,
   "metadata": {
    "hidden": true
   },
   "outputs": [],
   "source": [
    "plt.figure(figsize=(20, 10))\n",
    "sns.countplot(x=y_resampled)\n",
    "plt.show()"
   ]
  },
  {
   "cell_type": "markdown",
   "metadata": {
    "heading_collapsed": true,
    "hidden": true
   },
   "source": [
    "### imblearn.under_sampling.ClusterCentroids"
   ]
  },
  {
   "cell_type": "code",
   "execution_count": null,
   "metadata": {
    "hidden": true
   },
   "outputs": [],
   "source": [
    "cluster_centroids_undersampler = ClusterCentroids(random_state=0)"
   ]
  },
  {
   "cell_type": "code",
   "execution_count": null,
   "metadata": {
    "hidden": true
   },
   "outputs": [],
   "source": [
    "X_resampled, y_resampled = cluster_centroids_undersampler.fit_resample(\n",
    "    data[numerical_features],\n",
    "    data.y\n",
    ")"
   ]
  },
  {
   "cell_type": "code",
   "execution_count": null,
   "metadata": {
    "hidden": true
   },
   "outputs": [],
   "source": [
    "plt.figure(figsize=(20, 10))\n",
    "sns.countplot(x=y_resampled)\n",
    "plt.show()"
   ]
  },
  {
   "cell_type": "markdown",
   "metadata": {
    "heading_collapsed": true,
    "hidden": true
   },
   "source": [
    "### imblearn.under_sampling.NearMiss"
   ]
  },
  {
   "cell_type": "code",
   "execution_count": null,
   "metadata": {
    "hidden": true
   },
   "outputs": [],
   "source": [
    "near_miss_undersampler = NearMiss(random_state=0)"
   ]
  },
  {
   "cell_type": "code",
   "execution_count": null,
   "metadata": {
    "hidden": true
   },
   "outputs": [],
   "source": [
    "X_resampled, y_resampled = near_miss_undersampler.fit_resample(\n",
    "    data[numerical_features],\n",
    "    data.y\n",
    ")"
   ]
  },
  {
   "cell_type": "code",
   "execution_count": null,
   "metadata": {
    "hidden": true
   },
   "outputs": [],
   "source": [
    "plt.figure(figsize=(20, 10))\n",
    "sns.countplot(x=y_resampled)\n",
    "plt.show()"
   ]
  },
  {
   "cell_type": "markdown",
   "metadata": {
    "heading_collapsed": true,
    "hidden": true
   },
   "source": [
    "## Over-sampling"
   ]
  },
  {
   "cell_type": "markdown",
   "metadata": {
    "heading_collapsed": true,
    "hidden": true
   },
   "source": [
    "### imblearn.over_sampling.RandomOverSampler"
   ]
  },
  {
   "cell_type": "code",
   "execution_count": null,
   "metadata": {
    "hidden": true
   },
   "outputs": [],
   "source": [
    "random_oversampler = RandomOverSampler(random_state=0)"
   ]
  },
  {
   "cell_type": "code",
   "execution_count": null,
   "metadata": {
    "hidden": true
   },
   "outputs": [],
   "source": [
    "X_resampled, y_resampled = random_oversampler.fit_resample(\n",
    "    data[numerical_features + categorial_features],\n",
    "    data.y\n",
    ")"
   ]
  },
  {
   "cell_type": "code",
   "execution_count": null,
   "metadata": {
    "hidden": true
   },
   "outputs": [],
   "source": [
    "plt.figure(figsize=(20, 10))\n",
    "sns.countplot(x=y_resampled)\n",
    "plt.show()"
   ]
  },
  {
   "cell_type": "markdown",
   "metadata": {
    "heading_collapsed": true,
    "hidden": true
   },
   "source": [
    "### imblearn.over_sampling.SMOTE"
   ]
  },
  {
   "cell_type": "code",
   "execution_count": null,
   "metadata": {
    "hidden": true
   },
   "outputs": [],
   "source": [
    "smote_oversampler = SMOTE(random_state=0)"
   ]
  },
  {
   "cell_type": "code",
   "execution_count": null,
   "metadata": {
    "hidden": true
   },
   "outputs": [],
   "source": [
    "X_resampled, y_resampled = smote_oversampler.fit_resample(\n",
    "    data[numerical_features],\n",
    "    data.y\n",
    ")"
   ]
  },
  {
   "cell_type": "code",
   "execution_count": null,
   "metadata": {
    "hidden": true
   },
   "outputs": [],
   "source": [
    "plt.figure(figsize=(20, 10))\n",
    "sns.countplot(x=y_resampled)\n",
    "plt.show()"
   ]
  },
  {
   "cell_type": "markdown",
   "metadata": {
    "heading_collapsed": true,
    "hidden": true
   },
   "source": [
    "### imblearn.over_sampling.ADASYN"
   ]
  },
  {
   "cell_type": "code",
   "execution_count": null,
   "metadata": {
    "hidden": true
   },
   "outputs": [],
   "source": [
    "adasyn_oversampler = ADASYN(random_state=0)"
   ]
  },
  {
   "cell_type": "code",
   "execution_count": null,
   "metadata": {
    "hidden": true
   },
   "outputs": [],
   "source": [
    "X_resampled, y_resampled = adasyn_oversampler.fit_resample(\n",
    "    data[numerical_features],\n",
    "    data.y\n",
    ")"
   ]
  },
  {
   "cell_type": "code",
   "execution_count": null,
   "metadata": {
    "hidden": true
   },
   "outputs": [],
   "source": [
    "plt.figure(figsize=(20, 10))\n",
    "sns.countplot(x=y_resampled)\n",
    "plt.show()"
   ]
  },
  {
   "cell_type": "markdown",
   "metadata": {
    "heading_collapsed": true
   },
   "source": [
    "# A bit about the mess that was created so far"
   ]
  },
  {
   "cell_type": "markdown",
   "metadata": {
    "hidden": true
   },
   "source": [
    "А вот глянем теперь на тот ворох переменных, который был создан:"
   ]
  },
  {
   "cell_type": "code",
   "execution_count": null,
   "metadata": {
    "hidden": true,
    "scrolled": true
   },
   "outputs": [],
   "source": [
    "list(filter(lambda x: 'categorial' in x or 'numerical' in x, dir()))"
   ]
  },
  {
   "cell_type": "markdown",
   "metadata": {
    "heading_collapsed": true
   },
   "source": [
    "# Conclusion"
   ]
  },
  {
   "cell_type": "markdown",
   "metadata": {
    "hidden": true
   },
   "source": [
    "Итак, мы глянули:\n",
    "- как средствами scikit-learn можно заполнять пропуски, используя разные стратегии;\n",
    "- как нормализовать данные;\n",
    "- как с помощью трансформеров проводить преобразования признаков, отсеивать ненужные и т.д.;\n",
    "- как переводить целевую переменную из текстового представления в OneHot-представление и обратно;\n",
    "- как переводить категориальные признаки из текстового представления в OneHot-представление и обратно;\n",
    "- как проводить балансировку классов через:\n",
    "    - Under-sampling;\n",
    "    - Over-sampling.\n",
    "\n",
    "Есть несколько моментов, которые остались непокрытыми, а именно:\n",
    "- трансформация вещественной переменной в категориальную (квантизация);\n",
    "- работа с выбросами;\n",
    "- pipelines;\n",
    "- hyperparameters search;\n",
    "- pipelines + hyperparameters search\n",
    "- multiple metrics calculation during hyperparameters search.\n",
    "\n",
    "Здесь пока нет смысла делать какие-то выводы по поводу качества предобработки, поскольку мы еще не проводили тестирования на каком бы то ни было алгоритме.\n",
    "\n",
    "С другой стороны, на этапе различных трансформаций уже довольно четко проглядывалось, что некоторые признаки по виду лучше не становятся (сохраняется асимметрия, никуда не деваются выбросы и т.д.).\n",
    "\n",
    "К таким признакам стоит присматриваться повнимательнее, возможно там как раз и стоит проводить квантизацию (как, например, в случае с признаком pdays, где за 999 обозначалось отсутствие звонков клиенту).\n",
    "\n",
    "В целом, конечно, было бы гораздо лучше уже попробовать, какие-нибудь варианты предобработки в комбинации с каким-нибудь алгоритмом с тем, чтобы посмотреть, какие трансформации в какую сторону меняют результат."
   ]
  }
 ],
 "metadata": {
  "hide_input": false,
  "kernelspec": {
   "display_name": "Python 3",
   "language": "python",
   "name": "python3"
  },
  "language_info": {
   "codemirror_mode": {
    "name": "ipython",
    "version": 3
   },
   "file_extension": ".py",
   "mimetype": "text/x-python",
   "name": "python",
   "nbconvert_exporter": "python",
   "pygments_lexer": "ipython3",
   "version": "3.6.5"
  },
  "toc": {
   "base_numbering": 1,
   "nav_menu": {},
   "number_sections": true,
   "sideBar": true,
   "skip_h1_title": false,
   "title_cell": "Table of Contents",
   "title_sidebar": "Table of Contents",
   "toc_cell": true,
   "toc_position": {
    "height": "calc(100% - 180px)",
    "left": "10px",
    "top": "150px",
    "width": "428.926px"
   },
   "toc_section_display": true,
   "toc_window_display": true
  }
 },
 "nbformat": 4,
 "nbformat_minor": 1
}
